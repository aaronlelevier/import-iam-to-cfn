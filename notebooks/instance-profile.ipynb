{
 "cells": [
  {
   "cell_type": "markdown",
   "id": "f5c53cad",
   "metadata": {},
   "source": [
    "# imports"
   ]
  },
  {
   "cell_type": "code",
   "execution_count": null,
   "id": "2ce4d613",
   "metadata": {},
   "outputs": [],
   "source": [
    "import os\n",
    "import boto3\n",
    "import json"
   ]
  },
  {
   "cell_type": "code",
   "execution_count": null,
   "id": "35a525fc",
   "metadata": {},
   "outputs": [],
   "source": [
    "def get_boto_client(service, **kwargs):\n",
    "    return boto3.client(\n",
    "        service,\n",
    "        aws_access_key_id=os.environ['AWS_ACCESS_KEY_ID'],\n",
    "        aws_secret_access_key=os.environ['AWS_SECRET_ACCESS_KEY'],\n",
    "        **kwargs\n",
    "    )\n",
    "\n",
    "client = get_boto_client('iam')"
   ]
  },
  {
   "cell_type": "markdown",
   "id": "a333c401",
   "metadata": {},
   "source": [
    "### validate we can make an API call"
   ]
  },
  {
   "cell_type": "code",
   "execution_count": null,
   "id": "bfd2948d",
   "metadata": {},
   "outputs": [],
   "source": [
    "role_name = 'my-ec2-role'\n",
    "resp1 = client.get_role(RoleName=role_name)\n",
    "resp1"
   ]
  },
  {
   "cell_type": "markdown",
   "id": "0258a261-c07b-4e2e-b306-4f0916174a27",
   "metadata": {},
   "source": [
    "### read resource"
   ]
  },
  {
   "cell_type": "code",
   "execution_count": null,
   "id": "0d4cf556-f455-461b-b7a1-31b177ac6380",
   "metadata": {},
   "outputs": [],
   "source": [
    "resp2 = client.get_instance_profile(InstanceProfileName=role_name)\n",
    "resp2"
   ]
  },
  {
   "cell_type": "markdown",
   "id": "da7f62d3-ef35-4f6f-b5e6-b0c1babae5dc",
   "metadata": {},
   "source": [
    "### convert to CFN expected format"
   ]
  },
  {
   "cell_type": "code",
   "execution_count": null,
   "id": "bc4ac4a5-7729-4ed7-9c21-bc97ce52e2c0",
   "metadata": {},
   "outputs": [],
   "source": [
    "def instance_profile_to_cfn(d:dict):\n",
    "    \"\"\"\n",
    "    Args:\n",
    "        d = boto3.client.get_instance_profile response\n",
    "    \n",
    "    https://docs.aws.amazon.com/AWSCloudFormation/latest/UserGuide/aws-resource-iam-instanceprofile.html\n",
    "    \n",
    "    Type: AWS::IAM::InstanceProfile\n",
    "    Properties:\n",
    "      InstanceProfileName: String\n",
    "      Path: String\n",
    "      Roles: \n",
    "        - String\n",
    "    \"\"\"\n",
    "    return {\n",
    "        \"Type\": \"AWS::IAM::InstanceProfile\",\n",
    "        \"DeletionPolicy\": \"Retain\",\n",
    "        \"Properties\": {\n",
    "          \"InstanceProfileName\": d['InstanceProfile']['InstanceProfileName'],\n",
    "          \"Path\": d['InstanceProfile']['Path'],\n",
    "          \"Roles\": [\n",
    "            x['RoleName'] for x in d['InstanceProfile']['Roles']\n",
    "          ]\n",
    "        }\n",
    "    }\n",
    "\n",
    "instance_profile_to_cfn(resp2)"
   ]
  },
  {
   "cell_type": "markdown",
   "id": "3e523994",
   "metadata": {},
   "source": [
    "### create-change-set"
   ]
  },
  {
   "cell_type": "code",
   "execution_count": null,
   "id": "42e933d0",
   "metadata": {},
   "outputs": [],
   "source": [
    "cfn_client = get_boto_client('cloudformation')"
   ]
  },
  {
   "cell_type": "markdown",
   "id": "a8815bfe",
   "metadata": {},
   "source": [
    "### initial template we are importing has drift"
   ]
  },
  {
   "cell_type": "code",
   "execution_count": null,
   "id": "aa62e838-b080-4e26-bbc5-9b492e8abb4a",
   "metadata": {},
   "outputs": [],
   "source": [
    "def get_template(resources: dict) -> dict:\n",
    "    return {\n",
    "        \"AWSTemplateFormatVersion\": \"2010-09-09\",\n",
    "        \"Resources\": resources\n",
    "    }\n",
    "\n",
    "template = get_template(\n",
    "    resources={\n",
    "            \"MyInstanceProfile\": instance_profile_to_cfn(resp2)\n",
    "        })\n",
    "\n",
    "template"
   ]
  },
  {
   "cell_type": "code",
   "execution_count": null,
   "id": "6428f0fd-bcc5-40b0-96cf-2def4a3c02de",
   "metadata": {},
   "outputs": [],
   "source": [
    "instance_profile_name = role_name\n",
    "instance_profile_name"
   ]
  },
  {
   "cell_type": "code",
   "execution_count": null,
   "id": "cfed1692",
   "metadata": {},
   "outputs": [],
   "source": [
    "resp = cfn_client.create_change_set(\n",
    "    StackName='MyImportStack2',\n",
    "    TemplateBody=json.dumps(template),\n",
    "    ChangeSetType='IMPORT',\n",
    "    ChangeSetName=\"MyImportStack002\",\n",
    "    Capabilities=['CAPABILITY_NAMED_IAM'],\n",
    "    ResourcesToImport=[\n",
    "   {\n",
    "      \"ResourceType\":\"AWS::IAM::InstanceProfile\",\n",
    "      \"LogicalResourceId\":\"MyInstanceProfile\",\n",
    "      \"ResourceIdentifier\":{\n",
    "         \"InstanceProfileName\": instance_profile_name\n",
    "      }\n",
    "   }]\n",
    ")\n",
    "\n",
    "resp"
   ]
  },
  {
   "cell_type": "code",
   "execution_count": null,
   "id": "4d806a6c",
   "metadata": {
    "scrolled": true
   },
   "outputs": [],
   "source": [
    "resp2 = cfn_client.describe_change_set(\n",
    "    StackName='MyImportStack2',\n",
    "    ChangeSetName=\"MyImportStack002\",\n",
    ")\n",
    "\n",
    "resp2"
   ]
  },
  {
   "cell_type": "markdown",
   "id": "4f3ffbf4",
   "metadata": {},
   "source": [
    "### cfn stack will be in REVIEW_IN_PROGRESS until we make this call"
   ]
  },
  {
   "cell_type": "code",
   "execution_count": null,
   "id": "2bb0472c",
   "metadata": {},
   "outputs": [],
   "source": [
    "resp3 = cfn_client.execute_change_set(\n",
    "    StackName='MyImportStack2',\n",
    "    ChangeSetName=\"MyImportStack002\",\n",
    ")\n",
    "\n",
    "resp3"
   ]
  },
  {
   "cell_type": "markdown",
   "id": "d09a8dd7",
   "metadata": {},
   "source": [
    "### we now see Drift status is DRIFTED but Role is unchanged in AWS, so that's ok"
   ]
  },
  {
   "cell_type": "code",
   "execution_count": null,
   "id": "b58f911c",
   "metadata": {},
   "outputs": [],
   "source": [
    "resp4 = cfn_client.detect_stack_drift(\n",
    "    StackName='MyImportStack2'\n",
    ")\n",
    "resp4"
   ]
  },
  {
   "cell_type": "code",
   "execution_count": null,
   "id": "08bee221",
   "metadata": {},
   "outputs": [],
   "source": [
    "resp5 = cfn_client.describe_stack_drift_detection_status(\n",
    "    StackDriftDetectionId=resp4['StackDriftDetectionId']\n",
    ")\n",
    "resp5"
   ]
  },
  {
   "cell_type": "code",
   "execution_count": null,
   "id": "2d350a41-d5ce-4b08-aaf7-44e36273951c",
   "metadata": {},
   "outputs": [],
   "source": [
    "assert resp5['StackDriftStatus'] == 'IN_SYNC'"
   ]
  },
  {
   "cell_type": "code",
   "execution_count": null,
   "id": "3e76d695",
   "metadata": {},
   "outputs": [],
   "source": []
  }
 ],
 "metadata": {
  "kernelspec": {
   "display_name": "Python 3 (ipykernel)",
   "language": "python",
   "name": "python3"
  },
  "language_info": {
   "codemirror_mode": {
    "name": "ipython",
    "version": 3
   },
   "file_extension": ".py",
   "mimetype": "text/x-python",
   "name": "python",
   "nbconvert_exporter": "python",
   "pygments_lexer": "ipython3",
   "version": "3.12.3"
  }
 },
 "nbformat": 4,
 "nbformat_minor": 5
}
