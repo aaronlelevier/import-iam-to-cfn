{
 "cells": [
  {
   "cell_type": "markdown",
   "id": "f5c53cad",
   "metadata": {},
   "source": [
    "# imports"
   ]
  },
  {
   "cell_type": "code",
   "execution_count": null,
   "id": "2ce4d613",
   "metadata": {},
   "outputs": [],
   "source": [
    "import os\n",
    "import boto3"
   ]
  },
  {
   "cell_type": "code",
   "execution_count": null,
   "id": "35a525fc",
   "metadata": {},
   "outputs": [],
   "source": [
    "def get_boto_client(service, **kwargs):\n",
    "    return boto3.client(\n",
    "        service,\n",
    "        aws_access_key_id=os.environ['AWS_ACCESS_KEY_ID'],\n",
    "        aws_secret_access_key=os.environ['AWS_SECRET_ACCESS_KEY'],\n",
    "        **kwargs\n",
    "    )\n",
    "\n",
    "client = get_boto_client('iam')"
   ]
  },
  {
   "cell_type": "markdown",
   "id": "a333c401",
   "metadata": {},
   "source": [
    "### validate we can make an API call"
   ]
  },
  {
   "cell_type": "code",
   "execution_count": null,
   "id": "bfd2948d",
   "metadata": {},
   "outputs": [],
   "source": [
    "client.get_role(RoleName='my-lambda-role')"
   ]
  },
  {
   "cell_type": "markdown",
   "id": "3e523994",
   "metadata": {},
   "source": [
    "### create-change-set"
   ]
  },
  {
   "cell_type": "code",
   "execution_count": null,
   "id": "42e933d0",
   "metadata": {},
   "outputs": [],
   "source": [
    "cfn_client = get_boto_client('cloudformation')"
   ]
  },
  {
   "cell_type": "markdown",
   "id": "a8815bfe",
   "metadata": {},
   "source": [
    "### initial template we are importing has drift"
   ]
  },
  {
   "cell_type": "code",
   "execution_count": null,
   "id": "59d73e24",
   "metadata": {},
   "outputs": [],
   "source": [
    "with open('../templates/001.yaml') as f:\n",
    "    template_body = f.read()"
   ]
  },
  {
   "cell_type": "code",
   "execution_count": null,
   "id": "cfed1692",
   "metadata": {},
   "outputs": [],
   "source": [
    "resp = cfn_client.create_change_set(\n",
    "    StackName='MyImportStack',\n",
    "    TemplateBody=template_body,\n",
    "    ChangeSetType='IMPORT',\n",
    "    ChangeSetName=\"MyImportStack001\",\n",
    "    Capabilities=['CAPABILITY_NAMED_IAM'],\n",
    "    ResourcesToImport=[\n",
    "   {\n",
    "      \"ResourceType\":\"AWS::IAM::Role\",\n",
    "      \"LogicalResourceId\":\"MyRole\",\n",
    "      \"ResourceIdentifier\":{\n",
    "         \"RoleName\":\"my-lambda-role\"\n",
    "      }\n",
    "   }]\n",
    ")\n",
    "\n",
    "resp"
   ]
  },
  {
   "cell_type": "code",
   "execution_count": null,
   "id": "4d806a6c",
   "metadata": {
    "scrolled": true
   },
   "outputs": [],
   "source": [
    "resp2 = cfn_client.describe_change_set(\n",
    "    StackName='MyImportStack',\n",
    "    ChangeSetName=\"MyImportStack001\",\n",
    ")\n",
    "\n",
    "resp2"
   ]
  },
  {
   "cell_type": "markdown",
   "id": "4f3ffbf4",
   "metadata": {},
   "source": [
    "### cfn stack will be in REVIEW_IN_PROGRESS until we make this call"
   ]
  },
  {
   "cell_type": "code",
   "execution_count": null,
   "id": "2bb0472c",
   "metadata": {},
   "outputs": [],
   "source": [
    "resp3 = cfn_client.execute_change_set(\n",
    "    StackName='MyImportStack',\n",
    "    ChangeSetName=\"MyImportStack001\",\n",
    ")\n",
    "\n",
    "resp3"
   ]
  },
  {
   "cell_type": "markdown",
   "id": "d09a8dd7",
   "metadata": {},
   "source": [
    "### we now see Drift status is DRIFTED but Role is unchanged in AWS, so that's ok"
   ]
  },
  {
   "cell_type": "code",
   "execution_count": null,
   "id": "b58f911c",
   "metadata": {},
   "outputs": [],
   "source": [
    "resp4 = cfn_client.detect_stack_drift(\n",
    "    StackName='MyImportStack'\n",
    ")\n",
    "resp4"
   ]
  },
  {
   "cell_type": "code",
   "execution_count": null,
   "id": "08bee221",
   "metadata": {},
   "outputs": [],
   "source": [
    "resp5 = cfn_client.describe_stack_drift_detection_status(\n",
    "    StackDriftDetectionId=resp4['StackDriftDetectionId']\n",
    ")\n",
    "resp5"
   ]
  },
  {
   "cell_type": "code",
   "execution_count": null,
   "id": "14f1be0c",
   "metadata": {
    "scrolled": true
   },
   "outputs": [],
   "source": [
    "resp6 = cfn_client.describe_stack_resource_drifts(\n",
    "    StackName='MyImportStack'\n",
    ")\n",
    "resp6"
   ]
  },
  {
   "cell_type": "markdown",
   "id": "d2f7dba3",
   "metadata": {},
   "source": [
    "## update stack to match (no drift)"
   ]
  },
  {
   "cell_type": "code",
   "execution_count": null,
   "id": "256ff292",
   "metadata": {},
   "outputs": [],
   "source": [
    "with open('../templates/002.yaml') as f:\n",
    "    template_body2 = f.read()"
   ]
  },
  {
   "cell_type": "code",
   "execution_count": null,
   "id": "fdd7e75e",
   "metadata": {},
   "outputs": [],
   "source": [
    "response1 = cfn_client.update_stack(\n",
    "    StackName='MyImportStack',\n",
    "    TemplateBody=template_body2,\n",
    "    Capabilities=['CAPABILITY_NAMED_IAM'],\n",
    ")\n",
    "response1"
   ]
  },
  {
   "cell_type": "code",
   "execution_count": null,
   "id": "fd4cbaae",
   "metadata": {},
   "outputs": [],
   "source": [
    "response2 = cfn_client.detect_stack_drift(\n",
    "    StackName='MyImportStack'\n",
    ")\n",
    "response2"
   ]
  },
  {
   "cell_type": "markdown",
   "id": "e0b2f5ce",
   "metadata": {},
   "source": [
    "### we now see Drift status is IN_SYNC and CFN stack matches the Role"
   ]
  },
  {
   "cell_type": "code",
   "execution_count": null,
   "id": "694c4e52",
   "metadata": {},
   "outputs": [],
   "source": [
    "response3 = cfn_client.describe_stack_drift_detection_status(\n",
    "    StackDriftDetectionId=response2['StackDriftDetectionId']\n",
    ")\n",
    "response3"
   ]
  },
  {
   "cell_type": "markdown",
   "id": "500f5d15",
   "metadata": {},
   "source": [
    "### Update the role via the CFN stack"
   ]
  },
  {
   "cell_type": "code",
   "execution_count": null,
   "id": "af413efa",
   "metadata": {},
   "outputs": [],
   "source": [
    "with open('../templates/001.yaml') as f:\n",
    "    template_body1 = f.read()"
   ]
  },
  {
   "cell_type": "code",
   "execution_count": null,
   "id": "47c485f2",
   "metadata": {},
   "outputs": [],
   "source": [
    "response10 = cfn_client.update_stack(\n",
    "    StackName='MyImportStack',\n",
    "    TemplateBody=template_body1,\n",
    "    Capabilities=['CAPABILITY_NAMED_IAM'],\n",
    ")\n",
    "response10"
   ]
  },
  {
   "cell_type": "code",
   "execution_count": null,
   "id": "3e76d695",
   "metadata": {},
   "outputs": [],
   "source": []
  }
 ],
 "metadata": {
  "kernelspec": {
   "display_name": "Python 3 (ipykernel)",
   "language": "python",
   "name": "python3"
  },
  "language_info": {
   "codemirror_mode": {
    "name": "ipython",
    "version": 3
   },
   "file_extension": ".py",
   "mimetype": "text/x-python",
   "name": "python",
   "nbconvert_exporter": "python",
   "pygments_lexer": "ipython3",
   "version": "3.9.6"
  }
 },
 "nbformat": 4,
 "nbformat_minor": 5
}
